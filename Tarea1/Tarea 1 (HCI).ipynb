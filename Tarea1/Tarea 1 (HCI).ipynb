{
 "cells": [
  {
   "cell_type": "markdown",
   "id": "65f90a10",
   "metadata": {},
   "source": [
    "# Herramientas computacionales de la investigación \n",
    "\n",
    "## Tarea 1 \n",
    "\n",
    "### Tomás Pacheco, Abigail Riquelme"
   ]
  },
  {
   "cell_type": "code",
   "execution_count": null,
   "id": "345eebc8",
   "metadata": {},
   "outputs": [],
   "source": []
  },
  {
   "cell_type": "code",
   "execution_count": null,
   "id": "3166429c",
   "metadata": {},
   "outputs": [],
   "source": []
  },
  {
   "cell_type": "code",
   "execution_count": null,
   "id": "4033e74e",
   "metadata": {},
   "outputs": [],
   "source": []
  }
 ],
 "metadata": {
  "kernelspec": {
   "display_name": "Python 3 (ipykernel)",
   "language": "python",
   "name": "python3"
  },
  "language_info": {
   "codemirror_mode": {
    "name": "ipython",
    "version": 3
   },
   "file_extension": ".py",
   "mimetype": "text/x-python",
   "name": "python",
   "nbconvert_exporter": "python",
   "pygments_lexer": "ipython3",
   "version": "3.9.12"
  }
 },
 "nbformat": 4,
 "nbformat_minor": 5
}
